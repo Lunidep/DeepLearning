{
  "cells": [
    {
      "cell_type": "markdown",
      "metadata": {
        "id": "--yiZ45fVT_K"
      },
      "source": [
        "# Генеративные текстовые модели на датасете субтитров фильмов\n",
        "\n",
        "\n",
        "## Установка зависимостей"
      ]
    },
    {
      "cell_type": "markdown",
      "metadata": {},
      "source": [
        "### Перед началом работы были установлены необходимые библиотеки и зависимости."
      ]
    },
    {
      "cell_type": "code",
      "execution_count": null,
      "metadata": {
        "id": "ttQCOny2VT_L"
      },
      "outputs": [],
      "source": [
        "!pip install kagglehub -q\n",
        "!pip install tensorflow numpy pandas matplotlib seaborn scikit-learn -q"
      ]
    },
    {
      "cell_type": "markdown",
      "metadata": {
        "id": "kWIhC2-bVT_M"
      },
      "source": [
        "## Импорт библиотек и настройка"
      ]
    },
    {
      "cell_type": "markdown",
      "metadata": {},
      "source": [
        "### Далее библиотеки для работы с нейросетями, обработки текста и визуализации были подключены, установлены seed для воспроизводимости результатов, а также проверена доступность GPU для ускорения обучения моделей."
      ]
    },
    {
      "cell_type": "code",
      "execution_count": null,
      "metadata": {
        "colab": {
          "base_uri": "https://localhost:8080/"
        },
        "id": "t0E4ngJUVT_M",
        "outputId": "2771675d-5d0b-491b-ec9c-675f536a071f"
      },
      "outputs": [
        {
          "name": "stdout",
          "output_type": "stream",
          "text": [
            "GPU доступен: []\n",
            "TensorFlow версия: 2.18.0\n"
          ]
        }
      ],
      "source": [
        "import numpy as np\n",
        "import pandas as pd\n",
        "import tensorflow as tf\n",
        "from tensorflow import keras\n",
        "from tensorflow.keras import layers\n",
        "from tensorflow.keras.preprocessing.text import Tokenizer\n",
        "from tensorflow.keras.preprocessing.sequence import pad_sequences\n",
        "from tensorflow.keras.callbacks import EarlyStopping, ReduceLROnPlateau, ModelCheckpoint\n",
        "import matplotlib.pyplot as plt\n",
        "import seaborn as sns\n",
        "from sklearn.model_selection import train_test_split\n",
        "import re\n",
        "import os\n",
        "import kagglehub\n",
        "import glob\n",
        "from typing import List, Tuple, Dict\n",
        "import warnings\n",
        "warnings.filterwarnings('ignore')\n",
        "\n",
        "np.random.seed(42)\n",
        "tf.random.set_seed(42)\n",
        "\n",
        "print(\"GPU доступен:\", tf.config.list_physical_devices('GPU'))\n",
        "print(\"TensorFlow версия:\", tf.__version__)"
      ]
    },
    {
      "cell_type": "markdown",
      "metadata": {
        "id": "u28jLZ1oVT_M"
      },
      "source": [
        "## Загрузка датасета"
      ]
    },
    {
      "cell_type": "markdown",
      "metadata": {},
      "source": [
        "### Затем был загружен датасет субтитров фильмов с платформы Kaggle с использованием kagglehub, после чего выведена информация о содержимом скачанной директории для проверки корректности загрузки."
      ]
    },
    {
      "cell_type": "code",
      "execution_count": null,
      "metadata": {
        "colab": {
          "base_uri": "https://localhost:8080/"
        },
        "id": "Oge1qDgEVT_M",
        "outputId": "a59959ab-5376-45fe-af8b-7743d75903f3"
      },
      "outputs": [
        {
          "name": "stdout",
          "output_type": "stream",
          "text": [
            "Загрузка датасета субтитров фильмов...\n",
            "Downloading from https://www.kaggle.com/api/v1/datasets/download/adiamaan/movie-subtitle-dataset?dataset_version_number=1...\n"
          ]
        },
        {
          "name": "stderr",
          "output_type": "stream",
          "text": [
            "100%|██████████| 243M/243M [00:01<00:00, 149MB/s]"
          ]
        },
        {
          "name": "stdout",
          "output_type": "stream",
          "text": [
            "Extracting files...\n"
          ]
        },
        {
          "name": "stderr",
          "output_type": "stream",
          "text": [
            "\n"
          ]
        },
        {
          "name": "stdout",
          "output_type": "stream",
          "text": [
            "Датасет загружен в: /root/.cache/kagglehub/datasets/adiamaan/movie-subtitle-dataset/versions/1\n",
            "total 659392\n",
            "drwxr-xr-x 2 root root      4096 Jun  7 17:01 .\n",
            "drwxr-xr-x 3 root root      4096 Jun  7 17:01 ..\n",
            "-rw-r--r-- 1 root root   3837541 Jun  7 17:01 movies_meta.csv\n",
            "-rw-r--r-- 1 root root 671363393 Jun  7 17:01 movies_subtitles.csv\n"
          ]
        }
      ],
      "source": [
        "print(\"Загрузка датасета субтитров фильмов...\")\n",
        "path = kagglehub.dataset_download(\"adiamaan/movie-subtitle-dataset\")\n",
        "print(f\"Датасет загружен в: {path}\")\n",
        "\n",
        "!ls -la {path}"
      ]
    },
    {
      "cell_type": "markdown",
      "metadata": {},
      "source": [
        "### После этого была реализована загрузка и предобработка датасета субтитров: функция ищет CSV-файлы, автоматически определяет текстовую колонку, объединяет реплики в единый текст, проводит базовую очистку (приведение к нижнему регистру, удаление спецсимволов) и возвращает готовый текст для обучения генеративных моделей."
      ]
    },
    {
      "cell_type": "code",
      "execution_count": null,
      "metadata": {
        "colab": {
          "base_uri": "https://localhost:8080/"
        },
        "id": "QXV33d__VT_M",
        "outputId": "61ef970f-87dc-4e48-f85b-801eec30085b"
      },
      "outputs": [
        {
          "name": "stdout",
          "output_type": "stream",
          "text": [
            "Найдено файлов: 2\n",
            "Используем файл: /root/.cache/kagglehub/datasets/adiamaan/movie-subtitle-dataset/versions/1/movies_meta.csv\n",
            "Размер датасета: (4690, 24)\n",
            "Колонки: ['adult', 'belongs_to_collection', 'budget', 'genres', 'homepage', 'id', 'imdb_id', 'original_language', 'original_title', 'overview', 'popularity', 'poster_path', 'production_companies', 'production_countries', 'release_date', 'revenue', 'runtime', 'spoken_languages', 'status', 'tagline', 'title', 'video', 'vote_average', 'vote_count']\n",
            "Используем колонку: belongs_to_collection\n",
            "\n",
            "Размер текста: 86831 символов\n",
            "Пример текста: 'id': 10194, 'name': 'toy story collection', 'poster_path': '7g9915lfuq2lvfwmeehdsn3kt4b.jpg', 'backdrop_path': '9fbwqcd9irruedurtdcaafomkuq.jpg' 'id': 645, 'name': 'james bond collection', 'poster_path': 'horpg5cskmeqlaolx3bkmrkgfi.jpg', 'backdrop_path': '6vcvl48knkvdxozfjpdarlugosk.jpg' 'id': 9818, 'name': 'mortal kombat collection', 'poster_path': 'naucllomdtycilcrcvrsjkcjqbn.jpg', 'backdrop_path': 'qd3efz57vgnywan4ltvgz3fhnbb.jpg' 'id': 136214, 'name': 'pocahontas collection', 'poster_path':...\n"
          ]
        }
      ],
      "source": [
        "def load_and_preprocess_subtitles(dataset_path, max_samples=None):\n",
        "    \"\"\"Загрузка и предобработка субтитров\"\"\"\n",
        "    csv_files = glob.glob(os.path.join(dataset_path, \"*.csv\"))\n",
        "    if not csv_files:\n",
        "        csv_files = glob.glob(os.path.join(dataset_path, \"**/*.csv\"), recursive=True)\n",
        "\n",
        "    if not csv_files:\n",
        "        raise FileNotFoundError(\"CSV файлы не найдены\")\n",
        "\n",
        "    print(f\"Найдено файлов: {len(csv_files)}\")\n",
        "    print(f\"Используем файл: {csv_files[0]}\")\n",
        "\n",
        "    df = pd.read_csv(csv_files[0])\n",
        "    print(f\"Размер датасета: {df.shape}\")\n",
        "    print(f\"Колонки: {df.columns.tolist()}\")\n",
        "\n",
        "    text_columns = ['text', 'subtitle', 'subtitles', 'dialogue', 'content']\n",
        "    text_col = None\n",
        "\n",
        "    for col in text_columns:\n",
        "        if col in df.columns:\n",
        "            text_col = col\n",
        "            break\n",
        "\n",
        "    if not text_col:\n",
        "        text_cols = df.select_dtypes(include=['object']).columns\n",
        "        if len(text_cols) > 0:\n",
        "            text_col = text_cols[0]\n",
        "\n",
        "    print(f\"Используем колонку: {text_col}\")\n",
        "\n",
        "    if max_samples:\n",
        "        texts = df[text_col].dropna().astype(str).tolist()[:max_samples]\n",
        "    else:\n",
        "        texts = df[text_col].dropna().astype(str).tolist()\n",
        "\n",
        "    text = ' '.join(texts)\n",
        "\n",
        "    text = text.lower()\n",
        "    text = re.sub(r'\\s+', ' ', text)\n",
        "    text = re.sub(r'[^\\w\\s.,!?;:\\'\\\"-]', '', text)\n",
        "\n",
        "    return text.strip()\n",
        "\n",
        "text = load_and_preprocess_subtitles(path)\n",
        "print(f\"\\nРазмер текста: {len(text)} символов\")\n",
        "print(f\"Пример текста: {text[:500]}...\")"
      ]
    },
    {
      "cell_type": "markdown",
      "metadata": {
        "id": "_bYhFQmVVT_M"
      },
      "source": [
        "## Токенизация"
      ]
    },
    {
      "cell_type": "markdown",
      "metadata": {},
      "source": [
        "### Далее был реализован кастомный токенизатор для посимвольной обработки текста, который создает словарь символов и обеспечивает взаимное преобразование между символами и их числовыми индексами, что является основой для генеративных моделей с посимвольной токенизацией (Simple RNN/LSTM)."
      ]
    },
    {
      "cell_type": "code",
      "execution_count": null,
      "metadata": {
        "colab": {
          "base_uri": "https://localhost:8080/"
        },
        "id": "JxWAteT5VT_N",
        "outputId": "16a43d9a-82c9-40cf-c2bc-2bb6db76abd2"
      },
      "outputs": [
        {
          "name": "stdout",
          "output_type": "stream",
          "text": [
            "Размер словаря: 80 символов\n",
            "Примеры символов: [' ', '!', '\"', \"'\", ',', '-', '.', '0', '1', '2', '3', '4', '5', '6', '7', '8', '9', ':', '_', 'a']\n"
          ]
        }
      ],
      "source": [
        "class CharTokenizer:\n",
        "    def __init__(self):\n",
        "        self.char_to_idx = {}\n",
        "        self.idx_to_char = {}\n",
        "        self.vocab_size = 0\n",
        "\n",
        "    def fit(self, text):\n",
        "        chars = sorted(list(set(text)))\n",
        "        self.vocab_size = len(chars)\n",
        "        self.char_to_idx = {ch: i for i, ch in enumerate(chars)}\n",
        "        self.idx_to_char = {i: ch for i, ch in enumerate(chars)}\n",
        "\n",
        "    def texts_to_sequences(self, texts):\n",
        "        sequences = []\n",
        "        for text in texts:\n",
        "            seq = [self.char_to_idx.get(ch, 0) for ch in text]\n",
        "            sequences.append(seq)\n",
        "        return sequences\n",
        "\n",
        "    def sequences_to_texts(self, sequences):\n",
        "        texts = []\n",
        "        for seq in sequences:\n",
        "            text = ''.join([self.idx_to_char.get(idx, '') for idx in seq])\n",
        "            texts.append(text)\n",
        "        return texts\n",
        "\n",
        "tokenizer = CharTokenizer()\n",
        "tokenizer.fit(text)\n",
        "print(f\"Размер словаря: {tokenizer.vocab_size} символов\")\n",
        "print(f\"Примеры символов: {list(tokenizer.char_to_idx.keys())[:20]}\")"
      ]
    },
    {
      "cell_type": "markdown",
      "metadata": {
        "id": "GxEW-be1VT_N"
      },
      "source": [
        "## Подготовка данных для обучения"
      ]
    },
    {
      "cell_type": "markdown",
      "metadata": {},
      "source": [
        "### Затем создаются обучающие последовательности для генеративной модели: исходный текст разбивается на перекрывающиеся отрезки фиксированной длины (SEQ_LENGTH), где каждый следующий символ становится целевой переменной для предсказания, после чего данные разделяются на тренировочную и валидационную выборки."
      ]
    },
    {
      "cell_type": "code",
      "execution_count": null,
      "metadata": {
        "colab": {
          "base_uri": "https://localhost:8080/"
        },
        "id": "n388E75AVT_N",
        "outputId": "46c859df-1254-4649-e8a9-dc8bb4b3220c"
      },
      "outputs": [
        {
          "name": "stdout",
          "output_type": "stream",
          "text": [
            "Создание обучающих последовательностей...\n",
            "Размер обучающей выборки: (24587, 50)\n",
            "Размер валидационной выборки: (4340, 50)\n"
          ]
        }
      ],
      "source": [
        "def create_sequences(text, seq_length, tokenizer, step=3):\n",
        "    \"\"\"Создание обучающих последовательностей\"\"\"\n",
        "    encoded = tokenizer.texts_to_sequences([text])[0]\n",
        "\n",
        "    sequences = []\n",
        "    for i in range(0, len(encoded) - seq_length, step):\n",
        "        seq = encoded[i:i + seq_length + 1]\n",
        "        sequences.append(seq)\n",
        "\n",
        "    sequences = np.array(sequences)\n",
        "    X, y = sequences[:, :-1], sequences[:, -1]\n",
        "\n",
        "    return X, y\n",
        "\n",
        "SEQ_LENGTH = 50\n",
        "STEP = 3\n",
        "\n",
        "print(\"Создание обучающих последовательностей...\")\n",
        "X, y = create_sequences(text, SEQ_LENGTH, tokenizer, STEP)\n",
        "\n",
        "X_train, X_val, y_train, y_val = train_test_split(X, y, test_size=0.15, random_state=42)\n",
        "\n",
        "print(f\"Размер обучающей выборки: {X_train.shape}\")\n",
        "print(f\"Размер валидационной выборки: {X_val.shape}\")"
      ]
    },
    {
      "cell_type": "markdown",
      "metadata": {
        "id": "mlX9WMmdVT_N"
      },
      "source": [
        "## Создание моделей"
      ]
    },
    {
      "cell_type": "markdown",
      "metadata": {},
      "source": [
        "### Далее в ходе работы были реализованы две архитектуры генеративных моделей: Simple RNN и LSTM (с опциональной двунаправленной версией), каждая из которых использует embedding-слой для представления символов, рекуррентные слои для обработки последовательностей и dense-слой с softmax для предсказания следующего символа."
      ]
    },
    {
      "cell_type": "code",
      "execution_count": null,
      "metadata": {
        "id": "Ok5x_BvwVT_N"
      },
      "outputs": [],
      "source": [
        "def create_simple_rnn_model(vocab_size, seq_length, embedding_dim=128):\n",
        "    model = keras.Sequential([\n",
        "        layers.Embedding(vocab_size, embedding_dim, input_length=seq_length),\n",
        "        layers.SimpleRNN(256, return_sequences=True, dropout=0.3),\n",
        "        layers.SimpleRNN(256, dropout=0.3),\n",
        "        layers.Dense(256, activation='relu'),\n",
        "        layers.Dropout(0.4),\n",
        "        layers.Dense(vocab_size, activation='softmax')\n",
        "    ])\n",
        "\n",
        "    model.compile(\n",
        "        optimizer='adam',\n",
        "        loss='sparse_categorical_crossentropy',\n",
        "        metrics=['accuracy']\n",
        "    )\n",
        "\n",
        "    return model\n",
        "\n",
        "def create_lstm_model(vocab_size, seq_length, embedding_dim=128, bidirectional=False):\n",
        "    model = keras.Sequential()\n",
        "    model.add(layers.Embedding(vocab_size, embedding_dim, input_length=seq_length))\n",
        "\n",
        "    if bidirectional:\n",
        "        model.add(layers.Bidirectional(layers.LSTM(256, return_sequences=True, dropout=0.3)))\n",
        "        model.add(layers.Bidirectional(layers.LSTM(256, dropout=0.3)))\n",
        "    else:\n",
        "        model.add(layers.LSTM(256, return_sequences=True, dropout=0.3))\n",
        "        model.add(layers.LSTM(256, dropout=0.3))\n",
        "\n",
        "    model.add(layers.Dense(256, activation='relu'))\n",
        "    model.add(layers.Dropout(0.4))\n",
        "    model.add(layers.Dense(vocab_size, activation='softmax'))\n",
        "\n",
        "    model.compile(\n",
        "        optimizer='adam',\n",
        "        loss='sparse_categorical_crossentropy',\n",
        "        metrics=['accuracy']\n",
        "    )\n",
        "\n",
        "    return model"
      ]
    },
    {
      "cell_type": "markdown",
      "metadata": {
        "id": "ObzESQPoVT_N"
      },
      "source": [
        "## Функция для генерации текста"
      ]
    },
    {
      "cell_type": "markdown",
      "metadata": {},
      "source": [
        "### Ниже представлена функция генерации текста, которая использует обученную модель для посимвольного предсказания, начиная с заданного seed-текста, с возможностью регулирования 'креативности' модели через параметр temperature."
      ]
    },
    {
      "cell_type": "code",
      "execution_count": null,
      "metadata": {
        "id": "G649JTmdVT_N"
      },
      "outputs": [],
      "source": [
        "def generate_text(model, tokenizer, seed_text, num_chars=100, temperature=1.0):\n",
        "    \"\"\"Генерация текста с использованием обученной модели\"\"\"\n",
        "    generated = seed_text\n",
        "    seed = seed_text.lower()\n",
        "\n",
        "    for _ in range(num_chars):\n",
        "        encoded = tokenizer.texts_to_sequences([seed])[0]\n",
        "        encoded = pad_sequences([encoded], maxlen=model.input_shape[1], truncating='pre')[0]\n",
        "\n",
        "        predictions = model.predict(np.expand_dims(encoded, 0), verbose=0)[0]\n",
        "\n",
        "        predictions = np.log(predictions + 1e-7) / temperature\n",
        "        exp_preds = np.exp(predictions)\n",
        "        predictions = exp_preds / np.sum(exp_preds)\n",
        "\n",
        "        predicted_id = np.random.choice(len(predictions), p=predictions)\n",
        "        next_char = tokenizer.idx_to_char.get(predicted_id, '')\n",
        "\n",
        "        generated += next_char\n",
        "        seed = seed[1:] + next_char\n",
        "\n",
        "    return generated"
      ]
    },
    {
      "cell_type": "markdown",
      "metadata": {
        "id": "zAo9X6dQVT_N"
      },
      "source": [
        "## Обучение моделей"
      ]
    },
    {
      "cell_type": "markdown",
      "metadata": {},
      "source": [
        "### Затем были заданы ключевые параметры обучения (размер батча, количество эпох) и настроены callback-функции для оптимизации процесса обучения и сохранения лучшей модели, а также создан словарь для записи результатов сравнения моделей."
      ]
    },
    {
      "cell_type": "code",
      "execution_count": null,
      "metadata": {
        "id": "xM6P82ojVT_N"
      },
      "outputs": [],
      "source": [
        "BATCH_SIZE = 256\n",
        "EPOCHS = 20\n",
        "\n",
        "callbacks = [\n",
        "    EarlyStopping(monitor='val_accuracy', patience=7, restore_best_weights=True, mode='max'),\n",
        "    ReduceLROnPlateau(monitor='val_loss', factor=0.5, patience=2, min_lr=0.00001),\n",
        "    ModelCheckpoint('best_model.h5', monitor='val_accuracy', save_best_only=True, mode='max')\n",
        "]\n",
        "\n",
        "results = {}"
      ]
    },
    {
      "cell_type": "markdown",
      "metadata": {},
      "source": [
        "### Далее проводилось обучение Simple RNN модели с посимвольной токенизацией на датасете субтитров, оценивалось её качество и демонстрировалась генерация текста на заданном seed."
      ]
    },
    {
      "cell_type": "code",
      "execution_count": null,
      "metadata": {
        "colab": {
          "base_uri": "https://localhost:8080/",
          "height": 833
        },
        "id": "4P7q4K-2VT_N",
        "outputId": "a5d68e04-7a28-458f-c88a-dcd245da44a0"
      },
      "outputs": [
        {
          "name": "stdout",
          "output_type": "stream",
          "text": [
            "=== ОБУЧЕНИЕ SIMPLE RNN ===\n"
          ]
        },
        {
          "data": {
            "text/html": [
              "<pre style=\"white-space:pre;overflow-x:auto;line-height:normal;font-family:Menlo,'DejaVu Sans Mono',consolas,'Courier New',monospace\"><span style=\"font-weight: bold\">Model: \"sequential\"</span>\n",
              "</pre>\n"
            ],
            "text/plain": [
              "\u001b[1mModel: \"sequential\"\u001b[0m\n"
            ]
          },
          "metadata": {},
          "output_type": "display_data"
        },
        {
          "data": {
            "text/html": [
              "<pre style=\"white-space:pre;overflow-x:auto;line-height:normal;font-family:Menlo,'DejaVu Sans Mono',consolas,'Courier New',monospace\">┏━━━━━━━━━━━━━━━━━━━━━━━━━━━━━━━━━┳━━━━━━━━━━━━━━━━━━━━━━━━┳━━━━━━━━━━━━━━━┓\n",
              "┃<span style=\"font-weight: bold\"> Layer (type)                    </span>┃<span style=\"font-weight: bold\"> Output Shape           </span>┃<span style=\"font-weight: bold\">       Param # </span>┃\n",
              "┡━━━━━━━━━━━━━━━━━━━━━━━━━━━━━━━━━╇━━━━━━━━━━━━━━━━━━━━━━━━╇━━━━━━━━━━━━━━━┩\n",
              "│ embedding (<span style=\"color: #0087ff; text-decoration-color: #0087ff\">Embedding</span>)           │ ?                      │   <span style=\"color: #00af00; text-decoration-color: #00af00\">0</span> (unbuilt) │\n",
              "├─────────────────────────────────┼────────────────────────┼───────────────┤\n",
              "│ simple_rnn (<span style=\"color: #0087ff; text-decoration-color: #0087ff\">SimpleRNN</span>)          │ ?                      │   <span style=\"color: #00af00; text-decoration-color: #00af00\">0</span> (unbuilt) │\n",
              "├─────────────────────────────────┼────────────────────────┼───────────────┤\n",
              "│ simple_rnn_1 (<span style=\"color: #0087ff; text-decoration-color: #0087ff\">SimpleRNN</span>)        │ ?                      │   <span style=\"color: #00af00; text-decoration-color: #00af00\">0</span> (unbuilt) │\n",
              "├─────────────────────────────────┼────────────────────────┼───────────────┤\n",
              "│ dense (<span style=\"color: #0087ff; text-decoration-color: #0087ff\">Dense</span>)                   │ ?                      │   <span style=\"color: #00af00; text-decoration-color: #00af00\">0</span> (unbuilt) │\n",
              "├─────────────────────────────────┼────────────────────────┼───────────────┤\n",
              "│ dropout (<span style=\"color: #0087ff; text-decoration-color: #0087ff\">Dropout</span>)               │ ?                      │             <span style=\"color: #00af00; text-decoration-color: #00af00\">0</span> │\n",
              "├─────────────────────────────────┼────────────────────────┼───────────────┤\n",
              "│ dense_1 (<span style=\"color: #0087ff; text-decoration-color: #0087ff\">Dense</span>)                 │ ?                      │   <span style=\"color: #00af00; text-decoration-color: #00af00\">0</span> (unbuilt) │\n",
              "└─────────────────────────────────┴────────────────────────┴───────────────┘\n",
              "</pre>\n"
            ],
            "text/plain": [
              "┏━━━━━━━━━━━━━━━━━━━━━━━━━━━━━━━━━┳━━━━━━━━━━━━━━━━━━━━━━━━┳━━━━━━━━━━━━━━━┓\n",
              "┃\u001b[1m \u001b[0m\u001b[1mLayer (type)                   \u001b[0m\u001b[1m \u001b[0m┃\u001b[1m \u001b[0m\u001b[1mOutput Shape          \u001b[0m\u001b[1m \u001b[0m┃\u001b[1m \u001b[0m\u001b[1m      Param #\u001b[0m\u001b[1m \u001b[0m┃\n",
              "┡━━━━━━━━━━━━━━━━━━━━━━━━━━━━━━━━━╇━━━━━━━━━━━━━━━━━━━━━━━━╇━━━━━━━━━━━━━━━┩\n",
              "│ embedding (\u001b[38;5;33mEmbedding\u001b[0m)           │ ?                      │   \u001b[38;5;34m0\u001b[0m (unbuilt) │\n",
              "├─────────────────────────────────┼────────────────────────┼───────────────┤\n",
              "│ simple_rnn (\u001b[38;5;33mSimpleRNN\u001b[0m)          │ ?                      │   \u001b[38;5;34m0\u001b[0m (unbuilt) │\n",
              "├─────────────────────────────────┼────────────────────────┼───────────────┤\n",
              "│ simple_rnn_1 (\u001b[38;5;33mSimpleRNN\u001b[0m)        │ ?                      │   \u001b[38;5;34m0\u001b[0m (unbuilt) │\n",
              "├─────────────────────────────────┼────────────────────────┼───────────────┤\n",
              "│ dense (\u001b[38;5;33mDense\u001b[0m)                   │ ?                      │   \u001b[38;5;34m0\u001b[0m (unbuilt) │\n",
              "├─────────────────────────────────┼────────────────────────┼───────────────┤\n",
              "│ dropout (\u001b[38;5;33mDropout\u001b[0m)               │ ?                      │             \u001b[38;5;34m0\u001b[0m │\n",
              "├─────────────────────────────────┼────────────────────────┼───────────────┤\n",
              "│ dense_1 (\u001b[38;5;33mDense\u001b[0m)                 │ ?                      │   \u001b[38;5;34m0\u001b[0m (unbuilt) │\n",
              "└─────────────────────────────────┴────────────────────────┴───────────────┘\n"
            ]
          },
          "metadata": {},
          "output_type": "display_data"
        },
        {
          "data": {
            "text/html": [
              "<pre style=\"white-space:pre;overflow-x:auto;line-height:normal;font-family:Menlo,'DejaVu Sans Mono',consolas,'Courier New',monospace\"><span style=\"font-weight: bold\"> Total params: </span><span style=\"color: #00af00; text-decoration-color: #00af00\">0</span> (0.00 B)\n",
              "</pre>\n"
            ],
            "text/plain": [
              "\u001b[1m Total params: \u001b[0m\u001b[38;5;34m0\u001b[0m (0.00 B)\n"
            ]
          },
          "metadata": {},
          "output_type": "display_data"
        },
        {
          "data": {
            "text/html": [
              "<pre style=\"white-space:pre;overflow-x:auto;line-height:normal;font-family:Menlo,'DejaVu Sans Mono',consolas,'Courier New',monospace\"><span style=\"font-weight: bold\"> Trainable params: </span><span style=\"color: #00af00; text-decoration-color: #00af00\">0</span> (0.00 B)\n",
              "</pre>\n"
            ],
            "text/plain": [
              "\u001b[1m Trainable params: \u001b[0m\u001b[38;5;34m0\u001b[0m (0.00 B)\n"
            ]
          },
          "metadata": {},
          "output_type": "display_data"
        },
        {
          "data": {
            "text/html": [
              "<pre style=\"white-space:pre;overflow-x:auto;line-height:normal;font-family:Menlo,'DejaVu Sans Mono',consolas,'Courier New',monospace\"><span style=\"font-weight: bold\"> Non-trainable params: </span><span style=\"color: #00af00; text-decoration-color: #00af00\">0</span> (0.00 B)\n",
              "</pre>\n"
            ],
            "text/plain": [
              "\u001b[1m Non-trainable params: \u001b[0m\u001b[38;5;34m0\u001b[0m (0.00 B)\n"
            ]
          },
          "metadata": {},
          "output_type": "display_data"
        },
        {
          "name": "stdout",
          "output_type": "stream",
          "text": [
            "None\n",
            "Epoch 1/20\n",
            "\u001b[1m97/97\u001b[0m \u001b[32m━━━━━━━━━━━━━━━━━━━━\u001b[0m\u001b[37m\u001b[0m \u001b[1m0s\u001b[0m 492ms/step - accuracy: 0.2152 - loss: 3.3167"
          ]
        },
        {
          "name": "stderr",
          "output_type": "stream",
          "text": [
            "WARNING:absl:You are saving your model as an HDF5 file via `model.save()` or `keras.saving.save_model(model)`. This file format is considered legacy. We recommend using instead the native Keras format, e.g. `model.save('my_model.keras')` or `keras.saving.save_model(model, 'my_model.keras')`. \n"
          ]
        },
        {
          "name": "stdout",
          "output_type": "stream",
          "text": [
            "\b\b\b\b\b\b\b\b\b\b\b\b\b\b\b\b\b\b\b\b\b\b\b\b\b\b\b\b\b\b\b\b\b\b\b\b\b\b\b\b\b\b\b\b\b\b\b\b\b\b\b\b\b\b\b\b\b\b\b\b\b\b\b\b\b\b\b\b\b\b\b\b\b\b\r\u001b[1m97/97\u001b[0m \u001b[32m━━━━━━━━━━━━━━━━━━━━\u001b[0m\u001b[37m\u001b[0m \u001b[1m56s\u001b[0m 525ms/step - accuracy: 0.2166 - loss: 3.3103 - val_accuracy: 0.5426 - val_loss: 1.7838 - learning_rate: 0.0010\n",
            "Epoch 2/20\n",
            "\u001b[1m97/97\u001b[0m \u001b[32m━━━━━━━━━━━━━━━━━━━━\u001b[0m\u001b[37m\u001b[0m \u001b[1m0s\u001b[0m 474ms/step - accuracy: 0.5186 - loss: 1.9030"
          ]
        },
        {
          "name": "stderr",
          "output_type": "stream",
          "text": [
            "WARNING:absl:You are saving your model as an HDF5 file via `model.save()` or `keras.saving.save_model(model)`. This file format is considered legacy. We recommend using instead the native Keras format, e.g. `model.save('my_model.keras')` or `keras.saving.save_model(model, 'my_model.keras')`. \n"
          ]
        },
        {
          "name": "stdout",
          "output_type": "stream",
          "text": [
            "\b\b\b\b\b\b\b\b\b\b\b\b\b\b\b\b\b\b\b\b\b\b\b\b\b\b\b\b\b\b\b\b\b\b\b\b\b\b\b\b\b\b\b\b\b\b\b\b\b\b\b\b\b\b\b\b\b\b\b\b\b\b\b\b\b\b\b\b\b\b\b\b\b\b\r\u001b[1m97/97\u001b[0m \u001b[32m━━━━━━━━━━━━━━━━━━━━\u001b[0m\u001b[37m\u001b[0m \u001b[1m81s\u001b[0m 513ms/step - accuracy: 0.5188 - loss: 1.9022 - val_accuracy: 0.5599 - val_loss: 1.6566 - learning_rate: 0.0010\n",
            "Epoch 3/20\n",
            "\u001b[1m97/97\u001b[0m \u001b[32m━━━━━━━━━━━━━━━━━━━━\u001b[0m\u001b[37m\u001b[0m \u001b[1m0s\u001b[0m 477ms/step - accuracy: 0.5440 - loss: 1.7347"
          ]
        },
        {
          "name": "stderr",
          "output_type": "stream",
          "text": [
            "WARNING:absl:You are saving your model as an HDF5 file via `model.save()` or `keras.saving.save_model(model)`. This file format is considered legacy. We recommend using instead the native Keras format, e.g. `model.save('my_model.keras')` or `keras.saving.save_model(model, 'my_model.keras')`. \n"
          ]
        },
        {
          "name": "stdout",
          "output_type": "stream",
          "text": [
            "\b\b\b\b\b\b\b\b\b\b\b\b\b\b\b\b\b\b\b\b\b\b\b\b\b\b\b\b\b\b\b\b\b\b\b\b\b\b\b\b\b\b\b\b\b\b\b\b\b\b\b\b\b\b\b\b\b\b\b\b\b\b\b\b\b\b\b\b\b\b\b\b\b\b\r\u001b[1m97/97\u001b[0m \u001b[32m━━━━━━━━━━━━━━━━━━━━\u001b[0m\u001b[37m\u001b[0m \u001b[1m51s\u001b[0m 531ms/step - accuracy: 0.5440 - loss: 1.7344 - val_accuracy: 0.5673 - val_loss: 1.5966 - learning_rate: 0.0010\n",
            "Epoch 4/20\n",
            "\u001b[1m97/97\u001b[0m \u001b[32m━━━━━━━━━━━━━━━━━━━━\u001b[0m\u001b[37m\u001b[0m \u001b[1m0s\u001b[0m 489ms/step - accuracy: 0.5506 - loss: 1.6825"
          ]
        },
        {
          "name": "stderr",
          "output_type": "stream",
          "text": [
            "WARNING:absl:You are saving your model as an HDF5 file via `model.save()` or `keras.saving.save_model(model)`. This file format is considered legacy. We recommend using instead the native Keras format, e.g. `model.save('my_model.keras')` or `keras.saving.save_model(model, 'my_model.keras')`. \n"
          ]
        },
        {
          "name": "stdout",
          "output_type": "stream",
          "text": [
            "\b\b\b\b\b\b\b\b\b\b\b\b\b\b\b\b\b\b\b\b\b\b\b\b\b\b\b\b\b\b\b\b\b\b\b\b\b\b\b\b\b\b\b\b\b\b\b\b\b\b\b\b\b\b\b\b\b\b\b\b\b\b\b\b\b\b\b\b\b\b\b\b\b\b\r\u001b[1m97/97\u001b[0m \u001b[32m━━━━━━━━━━━━━━━━━━━━\u001b[0m\u001b[37m\u001b[0m \u001b[1m80s\u001b[0m 515ms/step - accuracy: 0.5506 - loss: 1.6823 - val_accuracy: 0.5705 - val_loss: 1.5771 - learning_rate: 0.0010\n",
            "Epoch 5/20\n",
            "\u001b[1m97/97\u001b[0m \u001b[32m━━━━━━━━━━━━━━━━━━━━\u001b[0m\u001b[37m\u001b[0m \u001b[1m0s\u001b[0m 488ms/step - accuracy: 0.5544 - loss: 1.6515"
          ]
        },
        {
          "name": "stderr",
          "output_type": "stream",
          "text": [
            "WARNING:absl:You are saving your model as an HDF5 file via `model.save()` or `keras.saving.save_model(model)`. This file format is considered legacy. We recommend using instead the native Keras format, e.g. `model.save('my_model.keras')` or `keras.saving.save_model(model, 'my_model.keras')`. \n"
          ]
        },
        {
          "name": "stdout",
          "output_type": "stream",
          "text": [
            "\b\b\b\b\b\b\b\b\b\b\b\b\b\b\b\b\b\b\b\b\b\b\b\b\b\b\b\b\b\b\b\b\b\b\b\b\b\b\b\b\b\b\b\b\b\b\b\b\b\b\b\b\b\b\b\b\b\b\b\b\b\b\b\b\b\b\b\b\b\b\b\b\b\b\r\u001b[1m97/97\u001b[0m \u001b[32m━━━━━━━━━━━━━━━━━━━━\u001b[0m\u001b[37m\u001b[0m \u001b[1m82s\u001b[0m 515ms/step - accuracy: 0.5545 - loss: 1.6513 - val_accuracy: 0.5733 - val_loss: 1.5698 - learning_rate: 0.0010\n",
            "Epoch 6/20\n",
            "\u001b[1m97/97\u001b[0m \u001b[32m━━━━━━━━━━━━━━━━━━━━\u001b[0m\u001b[37m\u001b[0m \u001b[1m53s\u001b[0m 547ms/step - accuracy: 0.5544 - loss: 1.6394 - val_accuracy: 0.5733 - val_loss: 1.5677 - learning_rate: 0.0010\n",
            "Epoch 7/20\n",
            "\u001b[1m97/97\u001b[0m \u001b[32m━━━━━━━━━━━━━━━━━━━━\u001b[0m\u001b[37m\u001b[0m \u001b[1m54s\u001b[0m 561ms/step - accuracy: 0.5592 - loss: 1.6232 - val_accuracy: 0.5687 - val_loss: 1.5589 - learning_rate: 0.0010\n",
            "Epoch 8/20\n",
            "\u001b[1m97/97\u001b[0m \u001b[32m━━━━━━━━━━━━━━━━━━━━\u001b[0m\u001b[37m\u001b[0m \u001b[1m79s\u001b[0m 529ms/step - accuracy: 0.5585 - loss: 1.6077 - val_accuracy: 0.5700 - val_loss: 1.5579 - learning_rate: 0.0010\n",
            "\n",
            "Validation accuracy: 0.5733\n",
            "\n",
            "Сгенерированный текст: helloatea carlh toa cillec collect cn tur collectai colsectit calgar collect  nomn cimla collec collecm c\n"
          ]
        }
      ],
      "source": [
        "print(\"=== ОБУЧЕНИЕ SIMPLE RNN ===\")\n",
        "rnn_model = create_simple_rnn_model(tokenizer.vocab_size, SEQ_LENGTH)\n",
        "print(rnn_model.summary())\n",
        "\n",
        "history_rnn = rnn_model.fit(\n",
        "    X_train, y_train,\n",
        "    validation_data=(X_val, y_val),\n",
        "    epochs=EPOCHS,\n",
        "    batch_size=BATCH_SIZE,\n",
        "    callbacks=callbacks,\n",
        "    verbose=1\n",
        ")\n",
        "\n",
        "val_loss, val_acc = rnn_model.evaluate(X_val, y_val, verbose=0)\n",
        "results['Simple RNN'] = {'accuracy': val_acc, 'loss': val_loss}\n",
        "print(f\"\\nValidation accuracy: {val_acc:.4f}\")\n",
        "\n",
        "seed = \"hello\"\n",
        "generated = generate_text(rnn_model, tokenizer, seed, num_chars=100)\n",
        "print(f\"\\nСгенерированный текст: {generated}\")"
      ]
    },
    {
      "cell_type": "markdown",
      "metadata": {},
      "source": [
        "### Ниже можно увидеть обучение однонаправленной LSTM модели с аналогичными параметрами, что и Simple RNN, для последующего сравнительного анализа эффективности архитектур."
      ]
    },
    {
      "cell_type": "code",
      "execution_count": null,
      "metadata": {
        "colab": {
          "base_uri": "https://localhost:8080/",
          "height": 886
        },
        "id": "FbSAQyCmVT_O",
        "outputId": "95df746b-29ca-40c4-d807-a1ec607c80ae"
      },
      "outputs": [
        {
          "name": "stdout",
          "output_type": "stream",
          "text": [
            "\n",
            "=== ОБУЧЕНИЕ LSTM ===\n"
          ]
        },
        {
          "data": {
            "text/html": [
              "<pre style=\"white-space:pre;overflow-x:auto;line-height:normal;font-family:Menlo,'DejaVu Sans Mono',consolas,'Courier New',monospace\"><span style=\"font-weight: bold\">Model: \"sequential_1\"</span>\n",
              "</pre>\n"
            ],
            "text/plain": [
              "\u001b[1mModel: \"sequential_1\"\u001b[0m\n"
            ]
          },
          "metadata": {},
          "output_type": "display_data"
        },
        {
          "data": {
            "text/html": [
              "<pre style=\"white-space:pre;overflow-x:auto;line-height:normal;font-family:Menlo,'DejaVu Sans Mono',consolas,'Courier New',monospace\">┏━━━━━━━━━━━━━━━━━━━━━━━━━━━━━━━━━┳━━━━━━━━━━━━━━━━━━━━━━━━┳━━━━━━━━━━━━━━━┓\n",
              "┃<span style=\"font-weight: bold\"> Layer (type)                    </span>┃<span style=\"font-weight: bold\"> Output Shape           </span>┃<span style=\"font-weight: bold\">       Param # </span>┃\n",
              "┡━━━━━━━━━━━━━━━━━━━━━━━━━━━━━━━━━╇━━━━━━━━━━━━━━━━━━━━━━━━╇━━━━━━━━━━━━━━━┩\n",
              "│ embedding_1 (<span style=\"color: #0087ff; text-decoration-color: #0087ff\">Embedding</span>)         │ ?                      │   <span style=\"color: #00af00; text-decoration-color: #00af00\">0</span> (unbuilt) │\n",
              "├─────────────────────────────────┼────────────────────────┼───────────────┤\n",
              "│ lstm (<span style=\"color: #0087ff; text-decoration-color: #0087ff\">LSTM</span>)                     │ ?                      │   <span style=\"color: #00af00; text-decoration-color: #00af00\">0</span> (unbuilt) │\n",
              "├─────────────────────────────────┼────────────────────────┼───────────────┤\n",
              "│ lstm_1 (<span style=\"color: #0087ff; text-decoration-color: #0087ff\">LSTM</span>)                   │ ?                      │   <span style=\"color: #00af00; text-decoration-color: #00af00\">0</span> (unbuilt) │\n",
              "├─────────────────────────────────┼────────────────────────┼───────────────┤\n",
              "│ dense_2 (<span style=\"color: #0087ff; text-decoration-color: #0087ff\">Dense</span>)                 │ ?                      │   <span style=\"color: #00af00; text-decoration-color: #00af00\">0</span> (unbuilt) │\n",
              "├─────────────────────────────────┼────────────────────────┼───────────────┤\n",
              "│ dropout_1 (<span style=\"color: #0087ff; text-decoration-color: #0087ff\">Dropout</span>)             │ ?                      │             <span style=\"color: #00af00; text-decoration-color: #00af00\">0</span> │\n",
              "├─────────────────────────────────┼────────────────────────┼───────────────┤\n",
              "│ dense_3 (<span style=\"color: #0087ff; text-decoration-color: #0087ff\">Dense</span>)                 │ ?                      │   <span style=\"color: #00af00; text-decoration-color: #00af00\">0</span> (unbuilt) │\n",
              "└─────────────────────────────────┴────────────────────────┴───────────────┘\n",
              "</pre>\n"
            ],
            "text/plain": [
              "┏━━━━━━━━━━━━━━━━━━━━━━━━━━━━━━━━━┳━━━━━━━━━━━━━━━━━━━━━━━━┳━━━━━━━━━━━━━━━┓\n",
              "┃\u001b[1m \u001b[0m\u001b[1mLayer (type)                   \u001b[0m\u001b[1m \u001b[0m┃\u001b[1m \u001b[0m\u001b[1mOutput Shape          \u001b[0m\u001b[1m \u001b[0m┃\u001b[1m \u001b[0m\u001b[1m      Param #\u001b[0m\u001b[1m \u001b[0m┃\n",
              "┡━━━━━━━━━━━━━━━━━━━━━━━━━━━━━━━━━╇━━━━━━━━━━━━━━━━━━━━━━━━╇━━━━━━━━━━━━━━━┩\n",
              "│ embedding_1 (\u001b[38;5;33mEmbedding\u001b[0m)         │ ?                      │   \u001b[38;5;34m0\u001b[0m (unbuilt) │\n",
              "├─────────────────────────────────┼────────────────────────┼───────────────┤\n",
              "│ lstm (\u001b[38;5;33mLSTM\u001b[0m)                     │ ?                      │   \u001b[38;5;34m0\u001b[0m (unbuilt) │\n",
              "├─────────────────────────────────┼────────────────────────┼───────────────┤\n",
              "│ lstm_1 (\u001b[38;5;33mLSTM\u001b[0m)                   │ ?                      │   \u001b[38;5;34m0\u001b[0m (unbuilt) │\n",
              "├─────────────────────────────────┼────────────────────────┼───────────────┤\n",
              "│ dense_2 (\u001b[38;5;33mDense\u001b[0m)                 │ ?                      │   \u001b[38;5;34m0\u001b[0m (unbuilt) │\n",
              "├─────────────────────────────────┼────────────────────────┼───────────────┤\n",
              "│ dropout_1 (\u001b[38;5;33mDropout\u001b[0m)             │ ?                      │             \u001b[38;5;34m0\u001b[0m │\n",
              "├─────────────────────────────────┼────────────────────────┼───────────────┤\n",
              "│ dense_3 (\u001b[38;5;33mDense\u001b[0m)                 │ ?                      │   \u001b[38;5;34m0\u001b[0m (unbuilt) │\n",
              "└─────────────────────────────────┴────────────────────────┴───────────────┘\n"
            ]
          },
          "metadata": {},
          "output_type": "display_data"
        },
        {
          "data": {
            "text/html": [
              "<pre style=\"white-space:pre;overflow-x:auto;line-height:normal;font-family:Menlo,'DejaVu Sans Mono',consolas,'Courier New',monospace\"><span style=\"font-weight: bold\"> Total params: </span><span style=\"color: #00af00; text-decoration-color: #00af00\">0</span> (0.00 B)\n",
              "</pre>\n"
            ],
            "text/plain": [
              "\u001b[1m Total params: \u001b[0m\u001b[38;5;34m0\u001b[0m (0.00 B)\n"
            ]
          },
          "metadata": {},
          "output_type": "display_data"
        },
        {
          "data": {
            "text/html": [
              "<pre style=\"white-space:pre;overflow-x:auto;line-height:normal;font-family:Menlo,'DejaVu Sans Mono',consolas,'Courier New',monospace\"><span style=\"font-weight: bold\"> Trainable params: </span><span style=\"color: #00af00; text-decoration-color: #00af00\">0</span> (0.00 B)\n",
              "</pre>\n"
            ],
            "text/plain": [
              "\u001b[1m Trainable params: \u001b[0m\u001b[38;5;34m0\u001b[0m (0.00 B)\n"
            ]
          },
          "metadata": {},
          "output_type": "display_data"
        },
        {
          "data": {
            "text/html": [
              "<pre style=\"white-space:pre;overflow-x:auto;line-height:normal;font-family:Menlo,'DejaVu Sans Mono',consolas,'Courier New',monospace\"><span style=\"font-weight: bold\"> Non-trainable params: </span><span style=\"color: #00af00; text-decoration-color: #00af00\">0</span> (0.00 B)\n",
              "</pre>\n"
            ],
            "text/plain": [
              "\u001b[1m Non-trainable params: \u001b[0m\u001b[38;5;34m0\u001b[0m (0.00 B)\n"
            ]
          },
          "metadata": {},
          "output_type": "display_data"
        },
        {
          "name": "stdout",
          "output_type": "stream",
          "text": [
            "None\n",
            "Epoch 1/20\n",
            "\u001b[1m97/97\u001b[0m \u001b[32m━━━━━━━━━━━━━━━━━━━━\u001b[0m\u001b[37m\u001b[0m \u001b[1m202s\u001b[0m 2s/step - accuracy: 0.0657 - loss: 3.8413 - val_accuracy: 0.1339 - val_loss: 3.1953 - learning_rate: 0.0010\n",
            "Epoch 2/20\n",
            "\u001b[1m97/97\u001b[0m \u001b[32m━━━━━━━━━━━━━━━━━━━━\u001b[0m\u001b[37m\u001b[0m \u001b[1m210s\u001b[0m 2s/step - accuracy: 0.1578 - loss: 2.9966 - val_accuracy: 0.4574 - val_loss: 2.0232 - learning_rate: 0.0010\n",
            "Epoch 3/20\n",
            "\u001b[1m97/97\u001b[0m \u001b[32m━━━━━━━━━━━━━━━━━━━━\u001b[0m\u001b[37m\u001b[0m \u001b[1m262s\u001b[0m 2s/step - accuracy: 0.4201 - loss: 2.0824 - val_accuracy: 0.5553 - val_loss: 1.6801 - learning_rate: 0.0010\n",
            "Epoch 4/20\n",
            "\u001b[1m97/97\u001b[0m \u001b[32m━━━━━━━━━━━━━━━━━━━━\u001b[0m\u001b[37m\u001b[0m \u001b[1m193s\u001b[0m 2s/step - accuracy: 0.5213 - loss: 1.7878 - val_accuracy: 0.5567 - val_loss: 1.6440 - learning_rate: 0.0010\n",
            "Epoch 5/20\n",
            "\u001b[1m97/97\u001b[0m \u001b[32m━━━━━━━━━━━━━━━━━━━━\u001b[0m\u001b[37m\u001b[0m \u001b[1m216s\u001b[0m 2s/step - accuracy: 0.5462 - loss: 1.6967 - val_accuracy: 0.5661 - val_loss: 1.6179 - learning_rate: 0.0010\n",
            "Epoch 6/20\n",
            "\u001b[1m97/97\u001b[0m \u001b[32m━━━━━━━━━━━━━━━━━━━━\u001b[0m\u001b[37m\u001b[0m \u001b[1m247s\u001b[0m 2s/step - accuracy: 0.5495 - loss: 1.6749 - val_accuracy: 0.5705 - val_loss: 1.5729 - learning_rate: 0.0010\n",
            "Epoch 7/20\n",
            "\u001b[1m97/97\u001b[0m \u001b[32m━━━━━━━━━━━━━━━━━━━━\u001b[0m\u001b[37m\u001b[0m \u001b[1m202s\u001b[0m 2s/step - accuracy: 0.5543 - loss: 1.6463 - val_accuracy: 0.5687 - val_loss: 1.5642 - learning_rate: 0.0010\n",
            "Epoch 8/20\n",
            "\u001b[1m97/97\u001b[0m \u001b[32m━━━━━━━━━━━━━━━━━━━━\u001b[0m\u001b[37m\u001b[0m \u001b[1m0s\u001b[0m 2s/step - accuracy: 0.5536 - loss: 1.6339"
          ]
        },
        {
          "name": "stderr",
          "output_type": "stream",
          "text": [
            "WARNING:absl:You are saving your model as an HDF5 file via `model.save()` or `keras.saving.save_model(model)`. This file format is considered legacy. We recommend using instead the native Keras format, e.g. `model.save('my_model.keras')` or `keras.saving.save_model(model, 'my_model.keras')`. \n"
          ]
        },
        {
          "name": "stdout",
          "output_type": "stream",
          "text": [
            "\b\b\b\b\b\b\b\b\b\b\b\b\b\b\b\b\b\b\b\b\b\b\b\b\b\b\b\b\b\b\b\b\b\b\b\b\b\b\b\b\b\b\b\b\b\b\b\b\b\b\b\b\b\b\b\b\b\b\b\b\b\b\b\b\b\b\b\b\b\b\b\r\u001b[1m97/97\u001b[0m \u001b[32m━━━━━━━━━━━━━━━━━━━━\u001b[0m\u001b[37m\u001b[0m \u001b[1m203s\u001b[0m 2s/step - accuracy: 0.5536 - loss: 1.6337 - val_accuracy: 0.5737 - val_loss: 1.5636 - learning_rate: 0.0010\n",
            "Epoch 9/20\n",
            "\u001b[1m97/97\u001b[0m \u001b[32m━━━━━━━━━━━━━━━━━━━━\u001b[0m\u001b[37m\u001b[0m \u001b[1m261s\u001b[0m 2s/step - accuracy: 0.5559 - loss: 1.6161 - val_accuracy: 0.5728 - val_loss: 1.5542 - learning_rate: 0.0010\n",
            "Epoch 10/20\n",
            "\u001b[1m97/97\u001b[0m \u001b[32m━━━━━━━━━━━━━━━━━━━━\u001b[0m\u001b[37m\u001b[0m \u001b[1m200s\u001b[0m 2s/step - accuracy: 0.5579 - loss: 1.6064 - val_accuracy: 0.5726 - val_loss: 1.5630 - learning_rate: 0.0010\n",
            "Epoch 11/20\n",
            "\u001b[1m97/97\u001b[0m \u001b[32m━━━━━━━━━━━━━━━━━━━━\u001b[0m\u001b[37m\u001b[0m \u001b[1m203s\u001b[0m 2s/step - accuracy: 0.5558 - loss: 1.6014 - val_accuracy: 0.5733 - val_loss: 1.5478 - learning_rate: 0.0010\n",
            "\n",
            "Validation accuracy: 0.5737\n",
            "\n",
            "Сгенерированный текст: helloererrerreererrrrrrrrrrrerrrrdrrrrrrrrrrrrrrrrerrerrerrrrrrrrrrrrerreerrerererrrererrerrrrrerrrrrrrrr\n"
          ]
        }
      ],
      "source": [
        "print(\"\\n=== ОБУЧЕНИЕ LSTM ===\")\n",
        "lstm_model = create_lstm_model(tokenizer.vocab_size, SEQ_LENGTH, bidirectional=False)\n",
        "print(lstm_model.summary())\n",
        "\n",
        "history_lstm = lstm_model.fit(\n",
        "    X_train, y_train,\n",
        "    validation_data=(X_val, y_val),\n",
        "    epochs=EPOCHS,\n",
        "    batch_size=BATCH_SIZE,\n",
        "    callbacks=callbacks,\n",
        "    verbose=1\n",
        ")\n",
        "\n",
        "val_loss, val_acc = lstm_model.evaluate(X_val, y_val, verbose=0)\n",
        "results['LSTM'] = {'accuracy': val_acc, 'loss': val_loss}\n",
        "print(f\"\\nValidation accuracy: {val_acc:.4f}\")\n",
        "\n",
        "generated = generate_text(lstm_model, tokenizer, seed, num_chars=100)\n",
        "print(f\"\\nСгенерированный текст: {generated}\")"
      ]
    },
    {
      "cell_type": "markdown",
      "metadata": {},
      "source": [
        "### Далее была протестирована двунаправленная LSTM (BiLSTM) — усложненная архитектура, анализирующая контекст в обоих направлениях."
      ]
    },
    {
      "cell_type": "code",
      "execution_count": null,
      "metadata": {
        "colab": {
          "base_uri": "https://localhost:8080/",
          "height": 1000
        },
        "id": "Vp-nUNjHVT_O",
        "outputId": "9a051614-6f28-4cb8-8d88-2da09a190fb6"
      },
      "outputs": [
        {
          "name": "stdout",
          "output_type": "stream",
          "text": [
            "\n",
            "=== ОБУЧЕНИЕ BIDIRECTIONAL LSTM ===\n"
          ]
        },
        {
          "data": {
            "text/html": [
              "<pre style=\"white-space:pre;overflow-x:auto;line-height:normal;font-family:Menlo,'DejaVu Sans Mono',consolas,'Courier New',monospace\"><span style=\"font-weight: bold\">Model: \"sequential_2\"</span>\n",
              "</pre>\n"
            ],
            "text/plain": [
              "\u001b[1mModel: \"sequential_2\"\u001b[0m\n"
            ]
          },
          "metadata": {},
          "output_type": "display_data"
        },
        {
          "data": {
            "text/html": [
              "<pre style=\"white-space:pre;overflow-x:auto;line-height:normal;font-family:Menlo,'DejaVu Sans Mono',consolas,'Courier New',monospace\">┏━━━━━━━━━━━━━━━━━━━━━━━━━━━━━━━━━┳━━━━━━━━━━━━━━━━━━━━━━━━┳━━━━━━━━━━━━━━━┓\n",
              "┃<span style=\"font-weight: bold\"> Layer (type)                    </span>┃<span style=\"font-weight: bold\"> Output Shape           </span>┃<span style=\"font-weight: bold\">       Param # </span>┃\n",
              "┡━━━━━━━━━━━━━━━━━━━━━━━━━━━━━━━━━╇━━━━━━━━━━━━━━━━━━━━━━━━╇━━━━━━━━━━━━━━━┩\n",
              "│ embedding_2 (<span style=\"color: #0087ff; text-decoration-color: #0087ff\">Embedding</span>)         │ ?                      │   <span style=\"color: #00af00; text-decoration-color: #00af00\">0</span> (unbuilt) │\n",
              "├─────────────────────────────────┼────────────────────────┼───────────────┤\n",
              "│ bidirectional (<span style=\"color: #0087ff; text-decoration-color: #0087ff\">Bidirectional</span>)   │ ?                      │   <span style=\"color: #00af00; text-decoration-color: #00af00\">0</span> (unbuilt) │\n",
              "├─────────────────────────────────┼────────────────────────┼───────────────┤\n",
              "│ bidirectional_1 (<span style=\"color: #0087ff; text-decoration-color: #0087ff\">Bidirectional</span>) │ ?                      │   <span style=\"color: #00af00; text-decoration-color: #00af00\">0</span> (unbuilt) │\n",
              "├─────────────────────────────────┼────────────────────────┼───────────────┤\n",
              "│ dense_4 (<span style=\"color: #0087ff; text-decoration-color: #0087ff\">Dense</span>)                 │ ?                      │   <span style=\"color: #00af00; text-decoration-color: #00af00\">0</span> (unbuilt) │\n",
              "├─────────────────────────────────┼────────────────────────┼───────────────┤\n",
              "│ dropout_2 (<span style=\"color: #0087ff; text-decoration-color: #0087ff\">Dropout</span>)             │ ?                      │             <span style=\"color: #00af00; text-decoration-color: #00af00\">0</span> │\n",
              "├─────────────────────────────────┼────────────────────────┼───────────────┤\n",
              "│ dense_5 (<span style=\"color: #0087ff; text-decoration-color: #0087ff\">Dense</span>)                 │ ?                      │   <span style=\"color: #00af00; text-decoration-color: #00af00\">0</span> (unbuilt) │\n",
              "└─────────────────────────────────┴────────────────────────┴───────────────┘\n",
              "</pre>\n"
            ],
            "text/plain": [
              "┏━━━━━━━━━━━━━━━━━━━━━━━━━━━━━━━━━┳━━━━━━━━━━━━━━━━━━━━━━━━┳━━━━━━━━━━━━━━━┓\n",
              "┃\u001b[1m \u001b[0m\u001b[1mLayer (type)                   \u001b[0m\u001b[1m \u001b[0m┃\u001b[1m \u001b[0m\u001b[1mOutput Shape          \u001b[0m\u001b[1m \u001b[0m┃\u001b[1m \u001b[0m\u001b[1m      Param #\u001b[0m\u001b[1m \u001b[0m┃\n",
              "┡━━━━━━━━━━━━━━━━━━━━━━━━━━━━━━━━━╇━━━━━━━━━━━━━━━━━━━━━━━━╇━━━━━━━━━━━━━━━┩\n",
              "│ embedding_2 (\u001b[38;5;33mEmbedding\u001b[0m)         │ ?                      │   \u001b[38;5;34m0\u001b[0m (unbuilt) │\n",
              "├─────────────────────────────────┼────────────────────────┼───────────────┤\n",
              "│ bidirectional (\u001b[38;5;33mBidirectional\u001b[0m)   │ ?                      │   \u001b[38;5;34m0\u001b[0m (unbuilt) │\n",
              "├─────────────────────────────────┼────────────────────────┼───────────────┤\n",
              "│ bidirectional_1 (\u001b[38;5;33mBidirectional\u001b[0m) │ ?                      │   \u001b[38;5;34m0\u001b[0m (unbuilt) │\n",
              "├─────────────────────────────────┼────────────────────────┼───────────────┤\n",
              "│ dense_4 (\u001b[38;5;33mDense\u001b[0m)                 │ ?                      │   \u001b[38;5;34m0\u001b[0m (unbuilt) │\n",
              "├─────────────────────────────────┼────────────────────────┼───────────────┤\n",
              "│ dropout_2 (\u001b[38;5;33mDropout\u001b[0m)             │ ?                      │             \u001b[38;5;34m0\u001b[0m │\n",
              "├─────────────────────────────────┼────────────────────────┼───────────────┤\n",
              "│ dense_5 (\u001b[38;5;33mDense\u001b[0m)                 │ ?                      │   \u001b[38;5;34m0\u001b[0m (unbuilt) │\n",
              "└─────────────────────────────────┴────────────────────────┴───────────────┘\n"
            ]
          },
          "metadata": {},
          "output_type": "display_data"
        },
        {
          "data": {
            "text/html": [
              "<pre style=\"white-space:pre;overflow-x:auto;line-height:normal;font-family:Menlo,'DejaVu Sans Mono',consolas,'Courier New',monospace\"><span style=\"font-weight: bold\"> Total params: </span><span style=\"color: #00af00; text-decoration-color: #00af00\">0</span> (0.00 B)\n",
              "</pre>\n"
            ],
            "text/plain": [
              "\u001b[1m Total params: \u001b[0m\u001b[38;5;34m0\u001b[0m (0.00 B)\n"
            ]
          },
          "metadata": {},
          "output_type": "display_data"
        },
        {
          "data": {
            "text/html": [
              "<pre style=\"white-space:pre;overflow-x:auto;line-height:normal;font-family:Menlo,'DejaVu Sans Mono',consolas,'Courier New',monospace\"><span style=\"font-weight: bold\"> Trainable params: </span><span style=\"color: #00af00; text-decoration-color: #00af00\">0</span> (0.00 B)\n",
              "</pre>\n"
            ],
            "text/plain": [
              "\u001b[1m Trainable params: \u001b[0m\u001b[38;5;34m0\u001b[0m (0.00 B)\n"
            ]
          },
          "metadata": {},
          "output_type": "display_data"
        },
        {
          "data": {
            "text/html": [
              "<pre style=\"white-space:pre;overflow-x:auto;line-height:normal;font-family:Menlo,'DejaVu Sans Mono',consolas,'Courier New',monospace\"><span style=\"font-weight: bold\"> Non-trainable params: </span><span style=\"color: #00af00; text-decoration-color: #00af00\">0</span> (0.00 B)\n",
              "</pre>\n"
            ],
            "text/plain": [
              "\u001b[1m Non-trainable params: \u001b[0m\u001b[38;5;34m0\u001b[0m (0.00 B)\n"
            ]
          },
          "metadata": {},
          "output_type": "display_data"
        },
        {
          "name": "stdout",
          "output_type": "stream",
          "text": [
            "None\n",
            "Epoch 1/20\n",
            "\u001b[1m97/97\u001b[0m \u001b[32m━━━━━━━━━━━━━━━━━━━━\u001b[0m\u001b[37m\u001b[0m \u001b[1m483s\u001b[0m 5s/step - accuracy: 0.0878 - loss: 3.7127 - val_accuracy: 0.2912 - val_loss: 2.3537 - learning_rate: 0.0010\n",
            "Epoch 2/20\n",
            "\u001b[1m97/97\u001b[0m \u001b[32m━━━━━━━━━━━━━━━━━━━━\u001b[0m\u001b[37m\u001b[0m \u001b[1m495s\u001b[0m 5s/step - accuracy: 0.3572 - loss: 2.2744 - val_accuracy: 0.5449 - val_loss: 1.7182 - learning_rate: 0.0010\n",
            "Epoch 3/20\n",
            "\u001b[1m97/97\u001b[0m \u001b[32m━━━━━━━━━━━━━━━━━━━━\u001b[0m\u001b[37m\u001b[0m \u001b[1m494s\u001b[0m 5s/step - accuracy: 0.5184 - loss: 1.7865 - val_accuracy: 0.5684 - val_loss: 1.6049 - learning_rate: 0.0010\n",
            "Epoch 4/20\n",
            "\u001b[1m97/97\u001b[0m \u001b[32m━━━━━━━━━━━━━━━━━━━━\u001b[0m\u001b[37m\u001b[0m \u001b[1m488s\u001b[0m 5s/step - accuracy: 0.5412 - loss: 1.6875 - val_accuracy: 0.5694 - val_loss: 1.5685 - learning_rate: 0.0010\n",
            "Epoch 5/20\n",
            "\u001b[1m97/97\u001b[0m \u001b[32m━━━━━━━━━━━━━━━━━━━━\u001b[0m\u001b[37m\u001b[0m \u001b[1m490s\u001b[0m 5s/step - accuracy: 0.5560 - loss: 1.6370 - val_accuracy: 0.5721 - val_loss: 1.5594 - learning_rate: 0.0010\n",
            "Epoch 6/20\n",
            "\u001b[1m97/97\u001b[0m \u001b[32m━━━━━━━━━━━━━━━━━━━━\u001b[0m\u001b[37m\u001b[0m \u001b[1m0s\u001b[0m 5s/step - accuracy: 0.5565 - loss: 1.6204"
          ]
        },
        {
          "name": "stderr",
          "output_type": "stream",
          "text": [
            "WARNING:absl:You are saving your model as an HDF5 file via `model.save()` or `keras.saving.save_model(model)`. This file format is considered legacy. We recommend using instead the native Keras format, e.g. `model.save('my_model.keras')` or `keras.saving.save_model(model, 'my_model.keras')`. \n"
          ]
        },
        {
          "name": "stdout",
          "output_type": "stream",
          "text": [
            "\u001b[1m97/97\u001b[0m \u001b[32m━━━━━━━━━━━━━━━━━━━━\u001b[0m\u001b[37m\u001b[0m \u001b[1m500s\u001b[0m 5s/step - accuracy: 0.5565 - loss: 1.6202 - val_accuracy: 0.5744 - val_loss: 1.5505 - learning_rate: 0.0010\n",
            "Epoch 7/20\n",
            "\u001b[1m97/97\u001b[0m \u001b[32m━━━━━━━━━━━━━━━━━━━━\u001b[0m\u001b[37m\u001b[0m \u001b[1m502s\u001b[0m 5s/step - accuracy: 0.5616 - loss: 1.6006 - val_accuracy: 0.5740 - val_loss: 1.5462 - learning_rate: 0.0010\n",
            "Epoch 8/20\n",
            "\u001b[1m97/97\u001b[0m \u001b[32m━━━━━━━━━━━━━━━━━━━━\u001b[0m\u001b[37m\u001b[0m \u001b[1m0s\u001b[0m 5s/step - accuracy: 0.5616 - loss: 1.5930"
          ]
        },
        {
          "name": "stderr",
          "output_type": "stream",
          "text": [
            "WARNING:absl:You are saving your model as an HDF5 file via `model.save()` or `keras.saving.save_model(model)`. This file format is considered legacy. We recommend using instead the native Keras format, e.g. `model.save('my_model.keras')` or `keras.saving.save_model(model, 'my_model.keras')`. \n"
          ]
        },
        {
          "name": "stdout",
          "output_type": "stream",
          "text": [
            "\u001b[1m97/97\u001b[0m \u001b[32m━━━━━━━━━━━━━━━━━━━━\u001b[0m\u001b[37m\u001b[0m \u001b[1m503s\u001b[0m 5s/step - accuracy: 0.5617 - loss: 1.5928 - val_accuracy: 0.5751 - val_loss: 1.5405 - learning_rate: 0.0010\n",
            "Epoch 9/20\n",
            "\u001b[1m97/97\u001b[0m \u001b[32m━━━━━━━━━━━━━━━━━━━━\u001b[0m\u001b[37m\u001b[0m \u001b[1m0s\u001b[0m 5s/step - accuracy: 0.5677 - loss: 1.5818"
          ]
        },
        {
          "name": "stderr",
          "output_type": "stream",
          "text": [
            "WARNING:absl:You are saving your model as an HDF5 file via `model.save()` or `keras.saving.save_model(model)`. This file format is considered legacy. We recommend using instead the native Keras format, e.g. `model.save('my_model.keras')` or `keras.saving.save_model(model, 'my_model.keras')`. \n"
          ]
        },
        {
          "name": "stdout",
          "output_type": "stream",
          "text": [
            "\u001b[1m97/97\u001b[0m \u001b[32m━━━━━━━━━━━━━━━━━━━━\u001b[0m\u001b[37m\u001b[0m \u001b[1m489s\u001b[0m 5s/step - accuracy: 0.5677 - loss: 1.5816 - val_accuracy: 0.5774 - val_loss: 1.5338 - learning_rate: 0.0010\n",
            "Epoch 10/20\n",
            "\u001b[1m97/97\u001b[0m \u001b[32m━━━━━━━━━━━━━━━━━━━━\u001b[0m\u001b[37m\u001b[0m \u001b[1m0s\u001b[0m 5s/step - accuracy: 0.5682 - loss: 1.5664"
          ]
        },
        {
          "name": "stderr",
          "output_type": "stream",
          "text": [
            "WARNING:absl:You are saving your model as an HDF5 file via `model.save()` or `keras.saving.save_model(model)`. This file format is considered legacy. We recommend using instead the native Keras format, e.g. `model.save('my_model.keras')` or `keras.saving.save_model(model, 'my_model.keras')`. \n"
          ]
        },
        {
          "name": "stdout",
          "output_type": "stream",
          "text": [
            "\u001b[1m97/97\u001b[0m \u001b[32m━━━━━━━━━━━━━━━━━━━━\u001b[0m\u001b[37m\u001b[0m \u001b[1m498s\u001b[0m 5s/step - accuracy: 0.5683 - loss: 1.5663 - val_accuracy: 0.5813 - val_loss: 1.5343 - learning_rate: 0.0010\n",
            "Epoch 11/20\n",
            "\u001b[1m97/97\u001b[0m \u001b[32m━━━━━━━━━━━━━━━━━━━━\u001b[0m\u001b[37m\u001b[0m \u001b[1m485s\u001b[0m 5s/step - accuracy: 0.5701 - loss: 1.5557 - val_accuracy: 0.5793 - val_loss: 1.5348 - learning_rate: 0.0010\n",
            "Epoch 12/20\n",
            "\u001b[1m97/97\u001b[0m \u001b[32m━━━━━━━━━━━━━━━━━━━━\u001b[0m\u001b[37m\u001b[0m \u001b[1m492s\u001b[0m 5s/step - accuracy: 0.5754 - loss: 1.5369 - val_accuracy: 0.5811 - val_loss: 1.5326 - learning_rate: 5.0000e-04\n",
            "Epoch 13/20\n",
            "\u001b[1m97/97\u001b[0m \u001b[32m━━━━━━━━━━━━━━━━━━━━\u001b[0m\u001b[37m\u001b[0m \u001b[1m0s\u001b[0m 5s/step - accuracy: 0.5795 - loss: 1.5260"
          ]
        },
        {
          "name": "stderr",
          "output_type": "stream",
          "text": [
            "WARNING:absl:You are saving your model as an HDF5 file via `model.save()` or `keras.saving.save_model(model)`. This file format is considered legacy. We recommend using instead the native Keras format, e.g. `model.save('my_model.keras')` or `keras.saving.save_model(model, 'my_model.keras')`. \n"
          ]
        },
        {
          "name": "stdout",
          "output_type": "stream",
          "text": [
            "\b\b\b\b\b\b\b\b\b\b\b\b\b\b\b\b\b\b\b\b\b\b\b\b\b\b\b\b\b\b\b\b\b\b\b\b\b\b\b\b\b\b\b\b\b\b\b\b\b\b\b\b\b\b\b\b\b\b\b\b\b\b\b\b\b\b\b\b\b\b\b\r\u001b[1m97/97\u001b[0m \u001b[32m━━━━━━━━━━━━━━━━━━━━\u001b[0m\u001b[37m\u001b[0m \u001b[1m511s\u001b[0m 5s/step - accuracy: 0.5795 - loss: 1.5258 - val_accuracy: 0.5839 - val_loss: 1.5303 - learning_rate: 5.0000e-04\n",
            "Epoch 14/20\n",
            "\u001b[1m97/97\u001b[0m \u001b[32m━━━━━━━━━━━━━━━━━━━━\u001b[0m\u001b[37m\u001b[0m \u001b[1m465s\u001b[0m 5s/step - accuracy: 0.5808 - loss: 1.5106 - val_accuracy: 0.5827 - val_loss: 1.5340 - learning_rate: 5.0000e-04\n",
            "Epoch 15/20\n",
            "\u001b[1m97/97\u001b[0m \u001b[32m━━━━━━━━━━━━━━━━━━━━\u001b[0m\u001b[37m\u001b[0m \u001b[1m482s\u001b[0m 5s/step - accuracy: 0.5814 - loss: 1.4985 - val_accuracy: 0.5818 - val_loss: 1.5359 - learning_rate: 5.0000e-04\n",
            "Epoch 16/20\n",
            "\u001b[1m97/97\u001b[0m \u001b[32m━━━━━━━━━━━━━━━━━━━━\u001b[0m\u001b[37m\u001b[0m \u001b[1m498s\u001b[0m 5s/step - accuracy: 0.5889 - loss: 1.4834 - val_accuracy: 0.5820 - val_loss: 1.5334 - learning_rate: 2.5000e-04\n",
            "\n",
            "Validation accuracy: 0.5839\n",
            "\n",
            "Сгенерированный текст: hellon' se 9h bhelan collecececees', 'para hastre sestiacmacenacaly collecenlleaananes', 'bamal are' rama\n"
          ]
        }
      ],
      "source": [
        "print(\"\\n=== ОБУЧЕНИЕ BIDIRECTIONAL LSTM ===\")\n",
        "bilstm_model = create_lstm_model(tokenizer.vocab_size, SEQ_LENGTH, bidirectional=True)\n",
        "print(bilstm_model.summary())\n",
        "\n",
        "history_bilstm = bilstm_model.fit(\n",
        "    X_train, y_train,\n",
        "    validation_data=(X_val, y_val),\n",
        "    epochs=EPOCHS,\n",
        "    batch_size=BATCH_SIZE,\n",
        "    callbacks=callbacks,\n",
        "    verbose=1\n",
        ")\n",
        "\n",
        "val_loss, val_acc = bilstm_model.evaluate(X_val, y_val, verbose=0)\n",
        "results['Bidirectional LSTM'] = {'accuracy': val_acc, 'loss': val_loss}\n",
        "print(f\"\\nValidation accuracy: {val_acc:.4f}\")\n",
        "\n",
        "generated = generate_text(bilstm_model, tokenizer, seed, num_chars=100)\n",
        "print(f\"\\nСгенерированный текст: {generated}\")"
      ]
    },
    {
      "cell_type": "markdown",
      "metadata": {
        "id": "YKZ08SFAVT_O"
      },
      "source": [
        "## Визуализация результатов"
      ]
    },
    {
      "cell_type": "markdown",
      "metadata": {},
      "source": [
        "### Затем проводилось финальное сравнение производительности всех трех моделей (SimpleRNN, LSTM, BiLSTM) по ключевой метрике — точности (accuracy) на валидационной выборке, с визуализацией результатов."
      ]
    },
    {
      "cell_type": "code",
      "execution_count": null,
      "metadata": {
        "colab": {
          "base_uri": "https://localhost:8080/",
          "height": 803
        },
        "id": "WYn-_uXNVT_O",
        "outputId": "e18da0f4-6685-48c4-ee02-89fdd72af919"
      },
      "outputs": [
        {
          "data": {
            "image/png": "[encoded data removed]",
            "text/plain": [
              "<Figure size 1000x600 with 1 Axes>"
            ]
          },
          "metadata": {},
          "output_type": "display_data"
        },
        {
          "name": "stdout",
          "output_type": "stream",
          "text": [
            "\n",
            "=== ИТОГОВЫЕ РЕЗУЛЬТАТЫ ===\n",
            "Simple RNN:\n",
            "  - Точность: 0.5733\n",
            "  - Loss: 1.5698\n",
            "LSTM:\n",
            "  - Точность: 0.5737\n",
            "  - Loss: 1.5636\n",
            "Bidirectional LSTM:\n",
            "  - Точность: 0.5839\n",
            "  - Loss: 1.5303\n"
          ]
        }
      ],
      "source": [
        "plt.figure(figsize=(10, 6))\n",
        "models = list(results.keys())\n",
        "accuracies = [results[m]['accuracy'] for m in models]\n",
        "\n",
        "bars = plt.bar(models, accuracies, color=['#1f77b4', '#ff7f0e', '#2ca02c'])\n",
        "plt.ylim(0, 1)\n",
        "plt.ylabel('Validation Accuracy')\n",
        "plt.title('Сравнение точности моделей на датасете субтитров')\n",
        "\n",
        "for bar, acc in zip(bars, accuracies):\n",
        "    plt.text(bar.get_x() + bar.get_width()/2, bar.get_height() + 0.01,\n",
        "            f'{acc:.3f}', ha='center', va='bottom')\n",
        "\n",
        "plt.tight_layout()\n",
        "plt.show()\n",
        "\n",
        "print(\"\\n=== ИТОГОВЫЕ РЕЗУЛЬТАТЫ ===\")\n",
        "for model_name, metrics in results.items():\n",
        "    print(f\"{model_name}:\")\n",
        "    print(f\"  - Точность: {metrics['accuracy']:.4f}\")\n",
        "    print(f\"  - Loss: {metrics['loss']:.4f}\")"
      ]
    },
    {
      "cell_type": "markdown",
      "metadata": {},
      "source": [
        "### Ниже анализируется динамика обучения лучшей модели (Bidirectional LSTM), визуализируются графики потерь (loss) и точности (accuracy) на тренировочной и валидационной выборках по эпохам."
      ]
    },
    {
      "cell_type": "code",
      "execution_count": null,
      "metadata": {
        "colab": {
          "base_uri": "https://localhost:8080/",
          "height": 425
        },
        "id": "3-9QlGRIVT_O",
        "outputId": "ac1675eb-0d4c-400b-e988-0576764a9d41"
      },
      "outputs": [
        {
          "name": "stdout",
          "output_type": "stream",
          "text": [
            "Лучшая модель: Bidirectional LSTM\n"
          ]
        },
        {
          "data": {
            "image/png": "[encoded data removed]",
            "text/plain": [
              "<Figure size 1200x400 with 2 Axes>"
            ]
          },
          "metadata": {},
          "output_type": "display_data"
        }
      ],
      "source": [
        "best_model_name = max(results.items(), key=lambda x: x[1]['accuracy'])[0]\n",
        "print(f\"Лучшая модель: {best_model_name}\")\n",
        "\n",
        "if best_model_name == 'Simple RNN':\n",
        "    history = history_rnn\n",
        "    best_model = rnn_model\n",
        "elif best_model_name == 'LSTM':\n",
        "    history = history_lstm\n",
        "    best_model = lstm_model\n",
        "else:\n",
        "    history = history_bilstm\n",
        "    best_model = bilstm_model\n",
        "\n",
        "fig, (ax1, ax2) = plt.subplots(1, 2, figsize=(12, 4))\n",
        "\n",
        "ax1.plot(history.history['loss'], label='Train')\n",
        "ax1.plot(history.history['val_loss'], label='Validation')\n",
        "ax1.set_title(f'{best_model_name} - Loss')\n",
        "ax1.set_xlabel('Epoch')\n",
        "ax1.set_ylabel('Loss')\n",
        "ax1.legend()\n",
        "ax1.grid(True)\n",
        "\n",
        "ax2.plot(history.history['accuracy'], label='Train')\n",
        "ax2.plot(history.history['val_accuracy'], label='Validation')\n",
        "ax2.set_title(f'{best_model_name} - Accuracy')\n",
        "ax2.set_xlabel('Epoch')\n",
        "ax2.set_ylabel('Accuracy')\n",
        "ax2.legend()\n",
        "ax2.grid(True)\n",
        "\n",
        "plt.tight_layout()\n",
        "plt.show()"
      ]
    },
    {
      "cell_type": "markdown",
      "metadata": {
        "id": "g1HBHMQtVT_O"
      },
      "source": [
        "## Генерация текста с разными температурами"
      ]
    },
    {
      "cell_type": "markdown",
      "metadata": {},
      "source": [
        "### Здесь демонстрируется работа лучшей модели (BiLSTM) при разных значениях параметра temperature, показывая как изменяется \"креативность\" генерации текста на различных начальных seed-фразах."
      ]
    },
    {
      "cell_type": "code",
      "execution_count": null,
      "metadata": {
        "colab": {
          "base_uri": "https://localhost:8080/"
        },
        "id": "h9bHuDOrVT_O",
        "outputId": "af2eb873-ea4d-4e9c-cbd9-5ba3a262eaa7"
      },
      "outputs": [
        {
          "name": "stdout",
          "output_type": "stream",
          "text": [
            "=== ГЕНЕРАЦИЯ ТЕКСТА С РАЗНЫМИ ТЕМПЕРАТУРАМИ ===\n",
            "\n",
            "Seed: 'i love'\n",
            "--------------------------------------------------\n",
            "Temp 0.5: i love collection' sera' collection' collection' collection' collection', 'paman colle\n",
            "Temp 0.8: i love', 'pamanat collectictio', 'pampah' 'hea': 'ales' 'saa': 'saataeses', 'pamal col\n",
            "Temp 1.0: i love', 'pammau tarly collectio' srema' colllectio', 'pampa 'heo' aurme' 'siеy', 'pam\n",
            "Temp 1.2: i loveua', 'namleracti' nha' 'he dreas', 'namaly', 'nama', 'pamaa' collectio', 'po': '\n",
            "\n",
            "Seed: 'the movie'\n",
            "--------------------------------------------------\n",
            "Temp 0.5: the movie', 'posr_path': 'mal collection', 'posre', 'pose' 'tares collection', 'posre' 's\n",
            "Temp 0.8: the movie'', 'pose': 'posmpati' collection', 'posre' 'te sigs, 'po'se' 'samin', 'pose': '\n",
            "Temp 1.0: the movie', 'posrera' collection', 'po'se srge' 's collection', 'posr_path': 'ran sag col\n",
            "Temp 1.2: the movie', 'po': 'lbil collection', 'poste': '2af collection', 'poserarin collection', '\n",
            "\n",
            "Seed: 'hello'\n",
            "--------------------------------------------------\n",
            "Temp 0.5: hellon', 'nase' collececeale' collecece' collece' collececeg', 'parime' sallsy collec\n",
            "Temp 0.8: hellon', 'paran collece' collece'' nasly meeaste collececadvaea'iralmle' terera' coll\n",
            "Temp 1.0: hello'sisy collececelera'easime' collece', 'pamek', 'parpanarann sallang' 'mulalen re\n",
            "Temp 1.2: hellou', 'pa', 'par_pate raaillecey', 'pa'amat collectis cemes'e snheaa' sipa' me' 'i\n",
            "\n",
            "Seed: 'what is'\n",
            "--------------------------------------------------\n",
            "Temp 0.5: what isan collection', 'pase' 'se collection', 'pase' 'se seraman' 'he', 'po': 'toman' \n",
            "Temp 0.8: what isalle', 'pase' 'tie' ignarana' sapa': 'pales collection', 'po': 'shea': 'namo' co\n",
            "Temp 1.0: what isem collection' 'glamy ges', 'po'ar timan', 'sases: 'teames', 'pame' 'olla', 'pas\n",
            "Temp 1.2: what ish- collection callen', 'pamera' mee' collection' dserpaan': 'goare' gga': 'aamil\n"
          ]
        }
      ],
      "source": [
        "print(\"=== ГЕНЕРАЦИЯ ТЕКСТА С РАЗНЫМИ ТЕМПЕРАТУРАМИ ===\")\n",
        "seed_texts = [\"i love\", \"the movie\", \"hello\", \"what is\"]\n",
        "\n",
        "for seed in seed_texts:\n",
        "    print(f\"\\nSeed: '{seed}'\")\n",
        "    print(\"-\" * 50)\n",
        "\n",
        "    for temp in [0.5, 0.8, 1.0, 1.2]:\n",
        "        generated = generate_text(best_model, tokenizer, seed, num_chars=80, temperature=temp)\n",
        "        print(f\"Temp {temp}: {generated}\")"
      ]
    },
    {
      "cell_type": "markdown",
      "metadata": {
        "id": "dlXm9wdNVT_O"
      },
      "source": [
        "## Выводы\n",
        "\n",
        "В ходе лабораторной работы была успешно реализована сравнительная оценка различных архитектур генеративных моделей (SimpleRNN, LSTM и Bidirectional LSTM) на датасете субтитров фильмов. Наилучшие результаты продемонстрировала двунаправленная LSTM с точностью 0.5839, что подтверждает её преимущество в анализе контекста по сравнению с другими архитектурами. Хотя обычная LSTM и SimpleRNN показали схожую производительность (0.5737 и 0.5733 соответственно), их ограничения в обработке длинных последовательностей стали очевидны при генерации текста. Полученные результаты убедительно доказывают, что для задач посимвольной генерации текста двунаправленные архитектуры обеспечивают более качественные результаты благодаря комплексному анализу контекста."
      ]
    }
  ],
  "metadata": {
    "colab": {
      "provenance": []
    },
    "kernelspec": {
      "display_name": "Python 3",
      "language": "python",
      "name": "python3"
    },
    "language_info": {
      "codemirror_mode": {
        "name": "ipython",
        "version": 3
      },
      "file_extension": ".py",
      "mimetype": "text/x-python",
      "name": "python",
      "nbconvert_exporter": "python",
      "pygments_lexer": "ipython3",
      "version": "3.8.0"
    }
  },
  "nbformat": 4,
  "nbformat_minor": 0
}
